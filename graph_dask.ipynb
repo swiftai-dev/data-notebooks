{
 "cells": [
  {
   "cell_type": "markdown",
   "id": "6ea9dee9",
   "metadata": {},
   "source": [
    "# Local processing"
   ]
  },
  {
   "cell_type": "code",
   "execution_count": 1,
   "id": "6d8ab217",
   "metadata": {},
   "outputs": [
    {
     "name": "stdout",
     "output_type": "stream",
     "text": [
      "First few entries of the graph incidence list:\n",
      "source\n",
      "1              [762]\n",
      "2    [578, 282, 845]\n",
      "5         [233, 405]\n",
      "8               [81]\n",
      "9          [650, 17]\n",
      "Name: target, dtype: object\n"
     ]
    }
   ],
   "source": [
    "import dask.dataframe as dd\n",
    "\n",
    "# Read the edges TSV file into a Dask DataFrame\n",
    "edges_df = dd.read_csv('data/edges.tsv', sep='\\t', names=['source', 'target'])\n",
    "\n",
    "# Create graph incidence list by grouping by source column\n",
    "# This will give us for each source node all its target nodes\n",
    "graph_incidence = edges_df.groupby('source')['target'].apply(\n",
    "    lambda x: list(x),\n",
    "    meta=('target', 'object')  # specify meta for proper schema inference\n",
    ").compute()  # compute to bring result into memory\n",
    "\n",
    "print(\"First few entries of the graph incidence list:\")\n",
    "print(graph_incidence.head())"
   ]
  },
  {
   "cell_type": "markdown",
   "id": "a19a9a87",
   "metadata": {},
   "source": [
    "# Distributed processing"
   ]
  },
  {
   "cell_type": "markdown",
   "id": "a75f706f",
   "metadata": {},
   "source": [
    "## Setting up Dask on Google Cloud Platform\n",
    "\n",
    "To run Dask on GCP, we need:\n",
    "1. Google Cloud SDK installed and configured\n",
    "2. A GCP project with the required APIs enabled:\n",
    "   - Compute Engine API\n",
    "   - Cloud Resource Manager API\n",
    "3. Authentication set up (`gcloud auth application-default login`)\n",
    "4. Dependencies installed:\n",
    "   ```bash\n",
    "   pip install dask-cloudprovider google-cloud-storage\n",
    "   ```\n",
    "\n",
    "The following code will set up a Dask cluster on GCP."
   ]
  },
  {
   "cell_type": "code",
   "execution_count": null,
   "id": "9504976c",
   "metadata": {},
   "outputs": [],
   "source": [
    "from dask_cloudprovider.gcp import GCPCluster\n",
    "from dask.distributed import Client\n",
    "import os\n",
    "\n",
    "# Configure your GCP project and zone from environment variables\n",
    "project = os.environ.get('GCP_PROJECT_ID')\n",
    "zone = os.environ.get('GCP_ZONE', 'us-east1-b')      # Default to us-central1-a if not set\n",
    "\n",
    "if not project:\n",
    "    raise ValueError(\"GCP_PROJECT_ID environment variable not set. Please set it in your .env file.\")\n",
    "\n",
    "# Create a GCP cluster\n",
    "cluster = GCPCluster(\n",
    "    projectid=project,\n",
    "    zone=zone,\n",
    "    n_workers=0,  # Number of worker nodes\n",
    "    machine_type=\"n2-standard-2\",  # Machine type for workers\n",
    "    # filesystem_size=50,           # Disk size in GB\n",
    "    preemptible=False,\n",
    "    # worker_class=\"dask_cloudprovider.gcp.GCPWorker\",\n",
    "    debug=True,\n",
    "    docker_image=\"daskdev/dask:latest-py3.11\",\n",
    ")\n",
    "\n",
    "# Create a Dask client\n",
    "client = Client(cluster)\n",
    "\n",
    "# Print cluster dashboard link\n",
    "print(f\"Dask dashboard available at: {client.dashboard_link}\")"
   ]
  },
  {
   "cell_type": "code",
   "execution_count": null,
   "id": "88203082",
   "metadata": {},
   "outputs": [],
   "source": [
    "cluster.get_logs()"
   ]
  },
  {
   "cell_type": "code",
   "execution_count": null,
   "id": "a13a9392",
   "metadata": {},
   "outputs": [],
   "source": [
    "cluster.scale_up(1)"
   ]
  },
  {
   "cell_type": "markdown",
   "id": "9d8d6e17",
   "metadata": {},
   "source": [
    "## Test with simple task"
   ]
  },
  {
   "cell_type": "code",
   "execution_count": 3,
   "id": "108c7776",
   "metadata": {},
   "outputs": [
    {
     "data": {
      "text/plain": [
       "np.float64(0.49965013822858817)"
      ]
     },
     "execution_count": 3,
     "metadata": {},
     "output_type": "execute_result"
    }
   ],
   "source": [
    "import dask.array as da\n",
    "\n",
    "arr = da.random.random((1000, 1000), chunks=(100, 100))\n",
    "arr.mean().compute()"
   ]
  },
  {
   "cell_type": "code",
   "execution_count": null,
   "id": "bdb16297",
   "metadata": {},
   "outputs": [],
   "source": []
  },
  {
   "cell_type": "markdown",
   "id": "7d2bd774",
   "metadata": {},
   "source": [
    "## Test with realistic task (small dataset)"
   ]
  },
  {
   "cell_type": "code",
   "execution_count": null,
   "id": "caca3b96",
   "metadata": {},
   "outputs": [],
   "source": [
    "import dask.dataframe as dd\n",
    "\n",
    "# Read the edges TSV file into a Dask DataFrame\n",
    "edges_df = dd.read_csv('https://storage.googleapis.com/labofone-notebooks/edges.tsv', sep='\\t', names=['source', 'target'])\n",
    "\n",
    "# Create graph incidence list by grouping by source column\n",
    "# This will give us for each source node all its target nodes\n",
    "graph_incidence = edges_df.groupby('source')['target'].apply(\n",
    "    lambda x: list(x),\n",
    "    meta=('target', 'object')  # specify meta for proper schema inference\n",
    ").compute()  # compute to bring result into memory\n",
    "\n",
    "print(\"First few entries of the graph incidence list:\")\n",
    "print(graph_incidence.head())"
   ]
  },
  {
   "cell_type": "code",
   "execution_count": null,
   "id": "7c54fc2a",
   "metadata": {},
   "outputs": [],
   "source": [
    "cluster.close()"
   ]
  },
  {
   "cell_type": "markdown",
   "id": "9cb0867e",
   "metadata": {},
   "source": [
    "## Match environments"
   ]
  },
  {
   "cell_type": "code",
   "execution_count": 1,
   "id": "e16d3a91",
   "metadata": {},
   "outputs": [
    {
     "name": "stdout",
     "output_type": "stream",
     "text": [
      "\u001b[2K\u001b[2mResolved \u001b[1m153 packages\u001b[0m \u001b[2min 3.68s\u001b[0m\u001b[0m                                       \u001b[0m\n",
      "\u001b[2K\u001b[37m⠸\u001b[0m \u001b[2mPreparing packages...\u001b[0m (0/3)                                                   \n",
      "\u001b[2K\u001b[1A\u001b[37m⠸\u001b[0m \u001b[2mPreparing packages...\u001b[0m (0/3)----\u001b[0m\u001b[0m     0 B/432.86 KiB                    \u001b[1A\n",
      "\u001b[2mtoolz     \u001b[0m \u001b[32m\u001b[2m------------------------------\u001b[0m\u001b[0m     0 B/54.53 KiB\n",
      "\u001b[2K\u001b[2A\u001b[37m⠸\u001b[0m \u001b[2mPreparing packages...\u001b[0m (0/3)----\u001b[0m\u001b[0m     0 B/432.86 KiB                    \u001b[2A\n",
      "\u001b[2mtoolz     \u001b[0m \u001b[32m\u001b[2m------------------------------\u001b[0m\u001b[0m     0 B/54.53 KiB\n",
      "\u001b[2K\u001b[2A\u001b[37m⠸\u001b[0m \u001b[2mPreparing packages...\u001b[0m (0/3)----\u001b[0m\u001b[0m 16.00 KiB/432.86 KiB                  \u001b[2A\n",
      "\u001b[2mtoolz     \u001b[0m \u001b[32m\u001b[2m------------------------------\u001b[0m\u001b[0m     0 B/54.53 KiB\n",
      "\u001b[2K\u001b[2A\u001b[37m⠸\u001b[0m \u001b[2mPreparing packages...\u001b[0m (0/3)----\u001b[0m\u001b[0m 32.00 KiB/432.86 KiB                  \u001b[2A\n",
      "\u001b[2mtoolz     \u001b[0m \u001b[32m\u001b[2m------------------------------\u001b[0m\u001b[0m     0 B/54.53 KiB\n",
      "\u001b[2K\u001b[2A\u001b[37m⠼\u001b[0m \u001b[2mPreparing packages...\u001b[0m (0/3)----\u001b[0m\u001b[0m 38.32 KiB/432.86 KiB                  \u001b[2A\n",
      "\u001b[2mtoolz     \u001b[0m \u001b[32m\u001b[2m------------------------------\u001b[0m\u001b[0m     0 B/54.53 KiB\n",
      "\u001b[2K\u001b[2A\u001b[37m⠼\u001b[0m \u001b[2mPreparing packages...\u001b[0m (0/3)----\u001b[0m\u001b[0m 38.32 KiB/432.86 KiB                  \u001b[2A\n",
      "\u001b[2mtoolz     \u001b[0m \u001b[32m--\u001b[2m----------------------------\u001b[0m\u001b[0m 2.05 KiB/54.53 KiB\n",
      "\u001b[2K\u001b[2A\u001b[37m⠼\u001b[0m \u001b[2mPreparing packages...\u001b[0m (0/3)----\u001b[0m\u001b[0m 38.32 KiB/432.86 KiB                  \u001b[2A\n",
      "\u001b[2mtoolz     \u001b[0m \u001b[32m--\u001b[2m----------------------------\u001b[0m\u001b[0m 2.05 KiB/54.53 KiB\n",
      "\u001b[2mtornado   \u001b[0m \u001b[32m---\u001b[2m---------------------------\u001b[0m\u001b[0m 38.32 KiB/432.86 KiB\n",
      "\u001b[2K\u001b[3A\u001b[37m⠼\u001b[0m \u001b[2mPreparing packages...\u001b[0m (0/3)----\u001b[0m\u001b[0m     0 B/1.21 MiB                      \u001b[3A\n",
      "\u001b[2mtoolz     \u001b[0m \u001b[32m--\u001b[2m----------------------------\u001b[0m\u001b[0m 2.05 KiB/54.53 KiB\n",
      "\u001b[2mtornado   \u001b[0m \u001b[32m---\u001b[2m---------------------------\u001b[0m\u001b[0m 38.32 KiB/432.86 KiB\n",
      "\u001b[2K\u001b[3A\u001b[37m⠼\u001b[0m \u001b[2mPreparing packages...\u001b[0m (0/3)----\u001b[0m\u001b[0m 14.92 KiB/1.21 MiB                    \u001b[3A\n",
      "\u001b[2mtoolz     \u001b[0m \u001b[32m--\u001b[2m----------------------------\u001b[0m\u001b[0m 2.05 KiB/54.53 KiB\n",
      "\u001b[2mtornado   \u001b[0m \u001b[32m----\u001b[2m--------------------------\u001b[0m\u001b[0m 49.83 KiB/432.86 KiB\n",
      "\u001b[2K\u001b[3A\u001b[37m⠼\u001b[0m \u001b[2mPreparing packages...\u001b[0m (0/3)----\u001b[0m\u001b[0m 14.92 KiB/1.21 MiB                    \u001b[3A\n",
      "\u001b[2mtoolz     \u001b[0m \u001b[32m----------\u001b[2m--------------------\u001b[0m\u001b[0m 18.05 KiB/54.53 KiB\n",
      "\u001b[2mtornado   \u001b[0m \u001b[32m----\u001b[2m--------------------------\u001b[0m\u001b[0m 49.83 KiB/432.86 KiB\n",
      "\u001b[2K\u001b[3A\u001b[37m⠼\u001b[0m \u001b[2mPreparing packages...\u001b[0m (0/3)----\u001b[0m\u001b[0m 14.92 KiB/1.21 MiB                    \u001b[3A\n",
      "\u001b[2mtoolz     \u001b[0m \u001b[32m----------\u001b[2m--------------------\u001b[0m\u001b[0m 18.05 KiB/54.53 KiB\n",
      "\u001b[2mtornado   \u001b[0m \u001b[32m-----\u001b[2m-------------------------\u001b[0m\u001b[0m 60.31 KiB/432.86 KiB\n",
      "\u001b[2K\u001b[3A\u001b[37m⠼\u001b[0m \u001b[2mPreparing packages...\u001b[0m (0/3)----\u001b[0m\u001b[0m 14.92 KiB/1.21 MiB                    \u001b[3A\n",
      "\u001b[2mtoolz     \u001b[0m \u001b[32m----------\u001b[2m--------------------\u001b[0m\u001b[0m 18.05 KiB/54.53 KiB\n",
      "\u001b[2mtornado   \u001b[0m \u001b[32m-----\u001b[2m-------------------------\u001b[0m\u001b[0m 60.31 KiB/432.86 KiB\n",
      "\u001b[2K\u001b[3A\u001b[37m⠼\u001b[0m \u001b[2mPreparing packages...\u001b[0m (0/3)----\u001b[0m\u001b[0m 30.92 KiB/1.21 MiB                    \u001b[3A\n",
      "\u001b[2mtoolz     \u001b[0m \u001b[32m-------------------\u001b[2m-----------\u001b[0m\u001b[0m 34.05 KiB/54.53 KiB\n",
      "\u001b[2mtornado   \u001b[0m \u001b[32m-----\u001b[2m-------------------------\u001b[0m\u001b[0m 60.31 KiB/432.86 KiB\n",
      "\u001b[2K\u001b[3A\u001b[37m⠼\u001b[0m \u001b[2mPreparing packages...\u001b[0m (0/3)----\u001b[0m\u001b[0m 30.92 KiB/1.21 MiB                    \u001b[3A\n",
      "\u001b[2mtoolz     \u001b[0m \u001b[32m-------------------\u001b[2m-----------\u001b[0m\u001b[0m 34.05 KiB/54.53 KiB\n",
      "\u001b[2mtornado   \u001b[0m \u001b[32m-----\u001b[2m-------------------------\u001b[0m\u001b[0m 60.31 KiB/432.86 KiB\n",
      "\u001b[2K\u001b[3A\u001b[37m⠼\u001b[0m \u001b[2mPreparing packages...\u001b[0m (0/3)----\u001b[0m\u001b[0m 46.92 KiB/1.21 MiB                    \u001b[3A\n",
      "\u001b[2mtoolz     \u001b[0m \u001b[32m-------------------\u001b[2m-----------\u001b[0m\u001b[0m 34.05 KiB/54.53 KiB\n",
      "\u001b[2mtornado   \u001b[0m \u001b[32m-----\u001b[2m-------------------------\u001b[0m\u001b[0m 60.31 KiB/432.86 KiB\n",
      "\u001b[2K\u001b[3A\u001b[37m⠼\u001b[0m \u001b[2mPreparing packages...\u001b[0m (0/3)----\u001b[0m\u001b[0m 62.92 KiB/1.21 MiB                    \u001b[3A\n",
      "\u001b[2mtoolz     \u001b[0m \u001b[32m-------------------\u001b[2m-----------\u001b[0m\u001b[0m 34.05 KiB/54.53 KiB\n",
      "\u001b[2mtornado   \u001b[0m \u001b[32m-----\u001b[2m-------------------------\u001b[0m\u001b[0m 60.31 KiB/432.86 KiB\n",
      "\u001b[2K\u001b[3A\u001b[37m⠼\u001b[0m \u001b[2mPreparing packages...\u001b[0m (0/3)----\u001b[0m\u001b[0m 78.92 KiB/1.21 MiB                    \u001b[3A\n",
      "\u001b[2mtoolz     \u001b[0m \u001b[32m-------------------\u001b[2m-----------\u001b[0m\u001b[0m 34.05 KiB/54.53 KiB\n",
      "\u001b[2mtornado   \u001b[0m \u001b[32m------\u001b[2m------------------------\u001b[0m\u001b[0m 76.31 KiB/432.86 KiB\n",
      "\u001b[2K\u001b[3A\u001b[37m⠼\u001b[0m \u001b[2mPreparing packages...\u001b[0m (0/3)----\u001b[0m\u001b[0m 78.92 KiB/1.21 MiB                    \u001b[3A\n",
      "\u001b[2mtoolz     \u001b[0m \u001b[32m-------------------\u001b[2m-----------\u001b[0m\u001b[0m 34.05 KiB/54.53 KiB\n",
      "\u001b[2mtornado   \u001b[0m \u001b[32m------\u001b[2m------------------------\u001b[0m\u001b[0m 76.31 KiB/432.86 KiB\n",
      "\u001b[2K\u001b[3A\u001b[37m⠼\u001b[0m \u001b[2mPreparing packages...\u001b[0m (0/3)----\u001b[0m\u001b[0m 94.92 KiB/1.21 MiB                    \u001b[3A\n",
      "\u001b[2mtoolz     \u001b[0m \u001b[32m-------------------\u001b[2m-----------\u001b[0m\u001b[0m 34.05 KiB/54.53 KiB\n",
      "\u001b[2mtornado   \u001b[0m \u001b[32m-------\u001b[2m-----------------------\u001b[0m\u001b[0m 92.31 KiB/432.86 KiB\n",
      "\u001b[2K\u001b[3A\u001b[37m⠼\u001b[0m \u001b[2mPreparing packages...\u001b[0m (0/3)----\u001b[0m\u001b[0m 94.92 KiB/1.21 MiB                    \u001b[3A\n",
      "\u001b[2mtoolz     \u001b[0m \u001b[32m----------------------------\u001b[2m--\u001b[0m\u001b[0m 50.05 KiB/54.53 KiB\n",
      "\u001b[2mtornado   \u001b[0m \u001b[32m-------\u001b[2m-----------------------\u001b[0m\u001b[0m 92.31 KiB/432.86 KiB\n",
      "\u001b[2K\u001b[3A\u001b[37m⠴\u001b[0m \u001b[2mPreparing packages...\u001b[0m (0/3)----\u001b[0m\u001b[0m 94.92 KiB/1.21 MiB                    \u001b[3A\n",
      "\u001b[2mtoolz     \u001b[0m \u001b[32m----------------------------\u001b[2m--\u001b[0m\u001b[0m 50.05 KiB/54.53 KiB\n",
      "\u001b[2mtornado   \u001b[0m \u001b[32m-------\u001b[2m-----------------------\u001b[0m\u001b[0m 92.31 KiB/432.86 KiB\n",
      "\u001b[2K\u001b[3A\u001b[37m⠴\u001b[0m \u001b[2mPreparing packages...\u001b[0m (0/3)----\u001b[0m\u001b[0m 94.92 KiB/1.21 MiB                    \u001b[3A\n",
      "\u001b[2mtoolz     \u001b[0m \u001b[32m----------------------------\u001b[2m--\u001b[0m\u001b[0m 50.05 KiB/54.53 KiB\n",
      "\u001b[2mtornado   \u001b[0m \u001b[32m-------\u001b[2m-----------------------\u001b[0m\u001b[0m 92.31 KiB/432.86 KiB\n",
      "\u001b[2K\u001b[3A\u001b[37m⠴\u001b[0m \u001b[2mPreparing packages...\u001b[0m (0/3)----\u001b[0m\u001b[0m 110.92 KiB/1.21 MiB                   \u001b[3A\n",
      "\u001b[2mtoolz     \u001b[0m \u001b[32m------------------------------\u001b[2m\u001b[0m\u001b[0m 54.53 KiB/54.53 KiB\n",
      "\u001b[2mtornado   \u001b[0m \u001b[32m-------\u001b[2m-----------------------\u001b[0m\u001b[0m 92.31 KiB/432.86 KiB\n",
      "\u001b[2K\u001b[3A\u001b[37m⠴\u001b[0m \u001b[2mPreparing packages...\u001b[0m (0/3)----\u001b[0m\u001b[0m 110.92 KiB/1.21 MiB                   \u001b[3A\n",
      "\u001b[2mtoolz     \u001b[0m \u001b[32m------------------------------\u001b[2m\u001b[0m\u001b[0m 54.53 KiB/54.53 KiB\n",
      "\u001b[2mtornado   \u001b[0m \u001b[32m--------\u001b[2m----------------------\u001b[0m\u001b[0m 108.31 KiB/432.86 KiB\n",
      "\u001b[2K\u001b[3A\u001b[37m⠴\u001b[0m \u001b[2mPreparing packages...\u001b[0m (0/3)----\u001b[0m\u001b[0m 110.92 KiB/1.21 MiB                   \u001b[3A\n",
      "\u001b[2mtoolz     \u001b[0m \u001b[32m------------------------------\u001b[2m\u001b[0m\u001b[0m 54.53 KiB/54.53 KiB\n",
      "\u001b[2mtornado   \u001b[0m \u001b[32m--------\u001b[2m----------------------\u001b[0m\u001b[0m 108.31 KiB/432.86 KiB\n",
      "\u001b[2K\u001b[3A\u001b[37m⠴\u001b[0m \u001b[2mPreparing packages...\u001b[0m (0/3)----\u001b[0m\u001b[0m 126.92 KiB/1.21 MiB                   \u001b[3A\n",
      "\u001b[2mtoolz     \u001b[0m \u001b[32m------------------------------\u001b[2m\u001b[0m\u001b[0m 54.53 KiB/54.53 KiB\n",
      "\u001b[2mtornado   \u001b[0m \u001b[32m--------\u001b[2m----------------------\u001b[0m\u001b[0m 108.31 KiB/432.86 KiB\n",
      "\u001b[2K\u001b[3A\u001b[37m⠴\u001b[0m \u001b[2mPreparing packages...\u001b[0m (0/3)----\u001b[0m\u001b[0m 142.81 KiB/1.21 MiB                   \u001b[3A\n",
      "\u001b[2mtoolz     \u001b[0m \u001b[32m------------------------------\u001b[2m\u001b[0m\u001b[0m 54.53 KiB/54.53 KiB\n",
      "\u001b[2mtornado   \u001b[0m \u001b[32m---------\u001b[2m---------------------\u001b[0m\u001b[0m 124.31 KiB/432.86 KiB\n",
      "\u001b[2K\u001b[3A\u001b[37m⠴\u001b[0m \u001b[2mPreparing packages...\u001b[0m (0/3)----\u001b[0m\u001b[0m 142.81 KiB/1.21 MiB                   \u001b[3A\n",
      "\u001b[2mtoolz     \u001b[0m \u001b[32m------------------------------\u001b[2m\u001b[0m\u001b[0m 54.53 KiB/54.53 KiB\n",
      "\u001b[2mtornado   \u001b[0m \u001b[32m---------\u001b[2m---------------------\u001b[0m\u001b[0m 124.31 KiB/432.86 KiB\n",
      "\u001b[2K\u001b[3A\u001b[37m⠴\u001b[0m \u001b[2mPreparing packages...\u001b[0m (0/3)----\u001b[0m\u001b[0m 142.92 KiB/1.21 MiB                   \u001b[3A\n",
      "\u001b[2mtornado   \u001b[0m \u001b[32m---------\u001b[2m---------------------\u001b[0m\u001b[0m 124.31 KiB/432.86 KiB\n",
      "\u001b[2K\u001b[2A\u001b[37m⠴\u001b[0m \u001b[2mPreparing packages...\u001b[0m (0/3)----\u001b[0m\u001b[0m 142.92 KiB/1.21 MiB                   \u001b[2A\n",
      "\u001b[2mtornado   \u001b[0m \u001b[32m---------------\u001b[2m---------------\u001b[0m\u001b[0m 204.31 KiB/432.86 KiB\n",
      "\u001b[2K\u001b[2A\u001b[37m⠴\u001b[0m \u001b[2mPreparing packages...\u001b[0m (0/3)----\u001b[0m\u001b[0m 174.92 KiB/1.21 MiB                   \u001b[2A\n",
      "\u001b[2mtornado   \u001b[0m \u001b[32m---------------------\u001b[2m---------\u001b[0m\u001b[0m 300.31 KiB/432.86 KiB\n",
      "\u001b[2K\u001b[2A\u001b[37m⠴\u001b[0m \u001b[2mPreparing packages...\u001b[0m (0/3)----\u001b[0m\u001b[0m 254.92 KiB/1.21 MiB                   \u001b[2A\n",
      "\u001b[2mtornado   \u001b[0m \u001b[32m----------------------\u001b[2m--------\u001b[0m\u001b[0m 316.31 KiB/432.86 KiB\n",
      "\u001b[2K\u001b[2A\u001b[37m⠦\u001b[0m \u001b[2mPreparing packages...\u001b[0m (1/3)----\u001b[0m\u001b[0m 350.92 KiB/1.21 MiB                   \u001b[2A\n",
      "\u001b[2mtornado   \u001b[0m \u001b[32m----------------------------\u001b[2m--\u001b[0m\u001b[0m 396.31 KiB/432.86 KiB\n",
      "\u001b[2K\u001b[2A\u001b[37m⠦\u001b[0m \u001b[2mPreparing packages...\u001b[0m (1/3)----\u001b[0m\u001b[0m 446.92 KiB/1.21 MiB                   \u001b[2A\n",
      "\u001b[2mtornado   \u001b[0m \u001b[32m-----------------------------\u001b[2m-\u001b[0m\u001b[0m 412.31 KiB/432.86 KiB\n",
      "\u001b[2K\u001b[2A\u001b[37m⠦\u001b[0m \u001b[2mPreparing packages...\u001b[0m (1/3)----\u001b[0m\u001b[0m 606.92 KiB/1.21 MiB                   \u001b[2A\n",
      "\u001b[2mtornado   \u001b[0m \u001b[32m------------------------------\u001b[2m\u001b[0m\u001b[0m 428.31 KiB/432.86 KiB\n",
      "\u001b[2K\u001b[2A\u001b[37m⠦\u001b[0m \u001b[2mPreparing packages...\u001b[0m (1/3)----\u001b[0m\u001b[0m 830.92 KiB/1.21 MiB                   \u001b[2A\n",
      "\u001b[2K\u001b[1A\u001b[37m⠦\u001b[0m \u001b[2mPreparing packages...\u001b[0m (1/3)----\u001b[0m\u001b[0m 846.92 KiB/1.21 MiB                   \u001b[1A\n",
      "\u001b[2K\u001b[1A\u001b[37m⠧\u001b[0m \u001b[2mPreparing packages...\u001b[0m (2/3)----\u001b[0m\u001b[0m 1022.92 KiB/1.21 MiB                  \u001b[1A\n",
      "\u001b[2K\u001b[2mPrepared \u001b[1m3 packages\u001b[0m \u001b[2min 1.29s\u001b[0m\u001b[0m                                                 \u001b[1A\n",
      "\u001b[2mUninstalled \u001b[1m2 packages\u001b[0m \u001b[2min 53ms\u001b[0m\u001b[0m\n",
      "\u001b[2K\u001b[2mInstalled \u001b[1m3 packages\u001b[0m \u001b[2min 18ms\u001b[0m\u001b[0m                                \u001b[0m\n",
      " \u001b[32m+\u001b[39m \u001b[1mlz4\u001b[0m\u001b[2m==4.3.3\u001b[0m\n",
      " \u001b[31m-\u001b[39m \u001b[1mtoolz\u001b[0m\u001b[2m==1.0.0\u001b[0m\n",
      " \u001b[32m+\u001b[39m \u001b[1mtoolz\u001b[0m\u001b[2m==0.12.0\u001b[0m\n",
      " \u001b[31m-\u001b[39m \u001b[1mtornado\u001b[0m\u001b[2m==6.5.2\u001b[0m\n",
      " \u001b[32m+\u001b[39m \u001b[1mtornado\u001b[0m\u001b[2m==6.5.1\u001b[0m\n"
     ]
    }
   ],
   "source": [
    "!uv add \"lz4==4.3.3\" \"toolz==0.12.0\" \"tornado==6.5.1\"\n"
   ]
  },
  {
   "cell_type": "markdown",
   "id": "5bea36ff",
   "metadata": {},
   "source": [
    "## Next steps:\n",
    "\n",
    "- environment matching failed\n",
    "- try running in development container\n",
    "- creating new docker image for scheduler/worker\n",
    "- try [condaInstall plugin](https://distributed.dask.org/en/stable/plugins.html#built-in-scheduler-plugins) \n",
    "- add [data-specific dependencies](https://docs.dask.org/en/latest/deploying-cloud.html)\n",
    "- fix [data reading](https://docs.dask.org/en/latest/how-to/connect-to-remote-data.html#google-cloud-storage) config\n",
    "- test with setup using [ssh](https://docs.dask.org/en/latest/deploying-ssh.html)\n",
    "- customize and extend [docker images](https://docs.dask.org/en/latest/deploying-docker.html)"
   ]
  },
  {
   "cell_type": "code",
   "execution_count": null,
   "id": "15c400fd",
   "metadata": {},
   "outputs": [],
   "source": [
    "#"
   ]
  }
 ],
 "metadata": {
  "kernelspec": {
   "display_name": "base",
   "language": "python",
   "name": "python3"
  },
  "language_info": {
   "codemirror_mode": {
    "name": "ipython",
    "version": 3
   },
   "file_extension": ".py",
   "mimetype": "text/x-python",
   "name": "python",
   "nbconvert_exporter": "python",
   "pygments_lexer": "ipython3",
   "version": "3.11.13"
  }
 },
 "nbformat": 4,
 "nbformat_minor": 5
}
