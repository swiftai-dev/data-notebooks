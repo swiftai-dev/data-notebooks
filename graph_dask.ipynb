{
 "cells": [
  {
   "cell_type": "markdown",
   "id": "6ea9dee9",
   "metadata": {},
   "source": [
    "# Local processing"
   ]
  },
  {
   "cell_type": "code",
   "execution_count": 1,
   "id": "6d8ab217",
   "metadata": {},
   "outputs": [
    {
     "name": "stdout",
     "output_type": "stream",
     "text": [
      "First few entries of the graph incidence list:\n",
      "source\n",
      "1              [762]\n",
      "2    [578, 282, 845]\n",
      "5         [233, 405]\n",
      "8               [81]\n",
      "9          [650, 17]\n",
      "Name: target, dtype: object\n"
     ]
    }
   ],
   "source": [
    "import dask.dataframe as dd\n",
    "\n",
    "# Read the edges TSV file into a Dask DataFrame\n",
    "edges_df = dd.read_csv('data/edges.tsv', sep='\\t', names=['source', 'target'])\n",
    "\n",
    "# Create graph incidence list by grouping by source column\n",
    "# This will give us for each source node all its target nodes\n",
    "graph_incidence = edges_df.groupby('source')['target'].apply(\n",
    "    lambda x: list(x),\n",
    "    meta=('target', 'object')  # specify meta for proper schema inference\n",
    ").compute()  # compute to bring result into memory\n",
    "\n",
    "print(\"First few entries of the graph incidence list:\")\n",
    "print(graph_incidence.head())"
   ]
  },
  {
   "cell_type": "markdown",
   "id": "a19a9a87",
   "metadata": {},
   "source": [
    "# Distributed processing"
   ]
  },
  {
   "cell_type": "markdown",
   "id": "a75f706f",
   "metadata": {},
   "source": []
  }
 ],
 "metadata": {
  "kernelspec": {
   "display_name": "notebooks",
   "language": "python",
   "name": "python3"
  },
  "language_info": {
   "codemirror_mode": {
    "name": "ipython",
    "version": 3
   },
   "file_extension": ".py",
   "mimetype": "text/x-python",
   "name": "python",
   "nbconvert_exporter": "python",
   "pygments_lexer": "ipython3",
   "version": "3.11.12"
  }
 },
 "nbformat": 4,
 "nbformat_minor": 5
}
