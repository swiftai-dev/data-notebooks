{
 "cells": [
  {
   "cell_type": "markdown",
   "id": "6ea9dee9",
   "metadata": {},
   "source": [
    "# Local processing"
   ]
  },
  {
   "cell_type": "code",
   "execution_count": 1,
   "id": "6d8ab217",
   "metadata": {},
   "outputs": [
    {
     "name": "stdout",
     "output_type": "stream",
     "text": [
      "First few entries of the graph incidence list:\n",
      "source\n",
      "1              [762]\n",
      "2    [578, 282, 845]\n",
      "5         [233, 405]\n",
      "8               [81]\n",
      "9          [650, 17]\n",
      "Name: target, dtype: object\n"
     ]
    }
   ],
   "source": [
    "import dask.dataframe as dd\n",
    "\n",
    "# Read the edges TSV file into a Dask DataFrame\n",
    "edges_df = dd.read_csv('data/edges.tsv', sep='\\t', names=['source', 'target'])\n",
    "\n",
    "# Create graph incidence list by grouping by source column\n",
    "# This will give us for each source node all its target nodes\n",
    "graph_incidence = edges_df.groupby('source')['target'].apply(\n",
    "    lambda x: list(x),\n",
    "    meta=('target', 'object')  # specify meta for proper schema inference\n",
    ").compute()  # compute to bring result into memory\n",
    "\n",
    "print(\"First few entries of the graph incidence list:\")\n",
    "print(graph_incidence.head())"
   ]
  },
  {
   "cell_type": "markdown",
   "id": "a19a9a87",
   "metadata": {},
   "source": [
    "# Distributed processing"
   ]
  },
  {
   "cell_type": "markdown",
   "id": "a75f706f",
   "metadata": {},
   "source": [
    "## Setting up Dask on Google Cloud Platform\n",
    "\n",
    "To run Dask on GCP, we need:\n",
    "1. Google Cloud SDK installed and configured\n",
    "2. A GCP project with the required APIs enabled:\n",
    "   - Compute Engine API\n",
    "   - Cloud Resource Manager API\n",
    "3. Authentication set up \n",
    "\n",
    "The following code will set up a Dask cluster on GCP."
   ]
  },
  {
   "cell_type": "code",
   "execution_count": null,
   "id": "247272a7",
   "metadata": {},
   "outputs": [
    {
     "name": "stdout",
     "output_type": "stream",
     "text": [
      "\n"
     ]
    }
   ],
   "source": [
    "# Authenticate and create ADC file\n",
    "!gcloud auth application-default login\n",
    "\n",
    "# Set the project ID\n",
    "!gcloud config set project $GCP_PROJECT_ID\n",
    "\n",
    "# Set the environment variable for Google Application Credentials\n",
    "!export  GOOGLE_APPLICATION_CREDENTIALS=\"$HOME/.config/gcloud/application_default_credentials.json\""
   ]
  },
  {
   "cell_type": "code",
   "execution_count": null,
   "id": "9504976c",
   "metadata": {},
   "outputs": [],
   "source": [
    "from dask_cloudprovider.gcp import GCPCluster\n",
    "from dask.distributed import Client\n",
    "import os\n",
    "\n",
    "# Configure your GCP project and zone from environment variables\n",
    "project = os.environ.get('GCP_PROJECT_ID')\n",
    "zone = os.environ.get('GCP_ZONE', 'us-east1-b')      # Default to us-central1-a if not set\n",
    "\n",
    "if not project:\n",
    "    raise ValueError(\"GCP_PROJECT_ID environment variable not set. Please set it in your .env file.\")\n",
    "\n",
    "# Create a GCP cluster\n",
    "cluster = GCPCluster(\n",
    "    projectid=project,\n",
    "    zone=zone,\n",
    "    n_workers=0,  # Number of worker nodes\n",
    "    machine_type=\"n1-standard-1\",  # Machine type for workers\n",
    "    # filesystem_size=50,           # Disk size in GB\n",
    "    preemptible=False,\n",
    "    # worker_class=\"dask_cloudprovider.gcp.GCPWorker\",\n",
    "    debug=True,\n",
    "    docker_image=\"daskdev/dask:latest-py3.11\",\n",
    "    docker_args='-e EXTRA_PIP_PACKAGES=\"dask-cloudprovider httplib2 cryptography google-api-python-client\"',\n",
    ")\n",
    "\n",
    "# Create a Dask client\n",
    "client = Client(cluster)\n",
    "\n",
    "# Print cluster dashboard link\n",
    "print(f\"Dask dashboard available at: {client.dashboard_link}\")"
   ]
  },
  {
   "cell_type": "code",
   "execution_count": 2,
   "id": "88203082",
   "metadata": {},
   "outputs": [
    {
     "data": {
      "text/html": [
       "\n",
       "    <details>\n",
       "    <summary style='display:list-item'>Cluster</summary>\n",
       "    \n",
       "    \n",
       "        <p style=\"font-family: monospace; margin: 0;\">Launching cluster with the following configuration: </p>\n",
       "    \n",
       "\n",
       "    \n",
       "        <p style=\"font-family: monospace; margin: 0;\">  Source Image: projects/ubuntu-os-cloud/global/images/ubuntu-minimal-1804-bionic-v20201014 </p>\n",
       "    \n",
       "\n",
       "    \n",
       "        <p style=\"font-family: monospace; margin: 0;\">  Docker Image: daskdev/dask:latest-py3.11 </p>\n",
       "    \n",
       "\n",
       "    \n",
       "        <p style=\"font-family: monospace; margin: 0;\">  Machine Type: n2-standard-2 </p>\n",
       "    \n",
       "\n",
       "    \n",
       "        <p style=\"font-family: monospace; margin: 0;\">  Filesystem Size: 50 </p>\n",
       "    \n",
       "\n",
       "    \n",
       "        <p style=\"font-family: monospace; margin: 0;\">  Disk Type: pd-standard </p>\n",
       "    \n",
       "\n",
       "    \n",
       "        <p style=\"font-family: monospace; margin: 0;\">  N-GPU Type:  </p>\n",
       "    \n",
       "\n",
       "    \n",
       "        <p style=\"font-family: monospace; margin: 0;\">  Zone: us-east1-b </p>\n",
       "    \n",
       "\n",
       "    \n",
       "        <p style=\"font-family: monospace; margin: 0;\">Creating scheduler instance</p>\n",
       "    \n",
       "\n",
       "    \n",
       "        <p style=\"font-family: monospace; margin: 0;\">dask-c79cbc2e-scheduler</p>\n",
       "    \n",
       "\n",
       "    \n",
       "        <p style=\"font-family: monospace; margin: 0;\">\tInternal IP: 10.142.0.5</p>\n",
       "    \n",
       "\n",
       "    \n",
       "        <p style=\"font-family: monospace; margin: 0;\">\tExternal IP: 35.231.205.98</p>\n",
       "    \n",
       "\n",
       "    \n",
       "        <p style=\"font-family: monospace; margin: 0;\">Waiting for scheduler to run at 35.231.205.98:8786</p>\n",
       "    \n",
       "\n",
       "    \n",
       "        <p style=\"font-family: monospace; margin: 0;\">Scheduler is running</p>\n",
       "    \n",
       "\n",
       "    </details>\n",
       "\n",
       "    <details>\n",
       "    <summary style='display:list-item'>Scheduler</summary>\n",
       "    \n",
       "    \n",
       "        <p style=\"font-family: monospace; margin: 0;\">2025-08-14 07:08:37,023 - distributed.scheduler - INFO - Receive client connection: Client-7e16bb98-78dd-11f0-9f27-6675c58bdccb</p>\n",
       "    \n",
       "\n",
       "    \n",
       "        <p style=\"font-family: monospace; margin: 0;\">2025-08-14 07:08:34,304 - distributed.scheduler - INFO - Registering Worker plugin shuffle</p>\n",
       "    \n",
       "\n",
       "    \n",
       "        <p style=\"font-family: monospace; margin: 0;\">2025-08-14 07:08:34,304 - distributed.scheduler - INFO -   dashboard at:  http://10.142.0.5:8787/status</p>\n",
       "    \n",
       "\n",
       "    \n",
       "        <p style=\"font-family: monospace; margin: 0;\">2025-08-14 07:08:34,304 - distributed.scheduler - INFO -   Scheduler at:     tls://10.142.0.5:8786</p>\n",
       "    \n",
       "\n",
       "    \n",
       "        <p style=\"font-family: monospace; margin: 0;\">2025-08-14 07:08:34,300 - distributed.scheduler - INFO - -----------------------------------------------</p>\n",
       "    \n",
       "\n",
       "    \n",
       "        <p style=\"font-family: monospace; margin: 0;\">2025-08-14 07:08:34,296 - distributed.scheduler - INFO - State start</p>\n",
       "    \n",
       "\n",
       "    </details>\n"
      ],
      "text/plain": [
       "{'Cluster': 'Launching cluster with the following configuration: \\n  Source Image: projects/ubuntu-os-cloud/global/images/ubuntu-minimal-1804-bionic-v20201014 \\n  Docker Image: daskdev/dask:latest-py3.11 \\n  Machine Type: n2-standard-2 \\n  Filesystem Size: 50 \\n  Disk Type: pd-standard \\n  N-GPU Type:  \\n  Zone: us-east1-b \\nCreating scheduler instance\\ndask-c79cbc2e-scheduler\\n\\tInternal IP: 10.142.0.5\\n\\tExternal IP: 35.231.205.98\\nWaiting for scheduler to run at 35.231.205.98:8786\\nScheduler is running',\n",
       " 'Scheduler': '2025-08-14 07:08:37,023 - distributed.scheduler - INFO - Receive client connection: Client-7e16bb98-78dd-11f0-9f27-6675c58bdccb\\n2025-08-14 07:08:34,304 - distributed.scheduler - INFO - Registering Worker plugin shuffle\\n2025-08-14 07:08:34,304 - distributed.scheduler - INFO -   dashboard at:  http://10.142.0.5:8787/status\\n2025-08-14 07:08:34,304 - distributed.scheduler - INFO -   Scheduler at:     tls://10.142.0.5:8786\\n2025-08-14 07:08:34,300 - distributed.scheduler - INFO - -----------------------------------------------\\n2025-08-14 07:08:34,296 - distributed.scheduler - INFO - State start'}"
      ]
     },
     "execution_count": 2,
     "metadata": {},
     "output_type": "execute_result"
    }
   ],
   "source": [
    "cluster.get_logs()"
   ]
  },
  {
   "cell_type": "code",
   "execution_count": null,
   "id": "a13a9392",
   "metadata": {},
   "outputs": [],
   "source": [
    "cluster.scale_up(1)"
   ]
  },
  {
   "cell_type": "markdown",
   "id": "9d8d6e17",
   "metadata": {},
   "source": [
    "## Test with simple task"
   ]
  },
  {
   "cell_type": "code",
   "execution_count": 3,
   "id": "108c7776",
   "metadata": {},
   "outputs": [
    {
     "data": {
      "text/plain": [
       "np.float64(0.49965013822858817)"
      ]
     },
     "execution_count": 3,
     "metadata": {},
     "output_type": "execute_result"
    }
   ],
   "source": [
    "import dask.array as da\n",
    "\n",
    "arr = da.random.random((1000, 1000), chunks=(100, 100))\n",
    "arr.mean().compute()"
   ]
  },
  {
   "cell_type": "markdown",
   "id": "7d2bd774",
   "metadata": {},
   "source": [
    "## Test with realistic task (small dataset)"
   ]
  },
  {
   "cell_type": "code",
   "execution_count": null,
   "id": "caca3b96",
   "metadata": {},
   "outputs": [],
   "source": [
    "import dask.dataframe as dd\n",
    "\n",
    "# Read the edges TSV file into a Dask DataFrame\n",
    "edges_df = dd.read_csv('https://storage.googleapis.com/labofone-notebooks/edges.tsv', sep='\\t', names=['source', 'target'])\n",
    "\n",
    "# Create graph incidence list by grouping by source column\n",
    "# This will give us for each source node all its target nodes\n",
    "graph_incidence = edges_df.groupby('source')['target'].apply(\n",
    "    lambda x: list(x),\n",
    "    meta=('target', 'object')  # specify meta for proper schema inference\n",
    ").compute()  # compute to bring result into memory\n",
    "\n",
    "print(\"First few entries of the graph incidence list:\")\n",
    "print(graph_incidence.head())"
   ]
  },
  {
   "cell_type": "code",
   "execution_count": 4,
   "id": "7c54fc2a",
   "metadata": {},
   "outputs": [
    {
     "name": "stdout",
     "output_type": "stream",
     "text": [
      "Closing Instance: dask-c79cbc2e-scheduler\n"
     ]
    }
   ],
   "source": [
    "cluster.close()"
   ]
  },
  {
   "cell_type": "markdown",
   "id": "9cb0867e",
   "metadata": {},
   "source": [
    "## Match environments"
   ]
  },
  {
   "cell_type": "code",
   "execution_count": null,
   "id": "e16d3a91",
   "metadata": {},
   "outputs": [],
   "source": [
    "!uv add \"lz4==4.3.3\" \"toolz==0.12.0\" \"tornado==6.5.1\"\n"
   ]
  },
  {
   "cell_type": "markdown",
   "id": "5bea36ff",
   "metadata": {},
   "source": [
    "## Next steps:\n",
    "\n",
    "- environment matching failed\n",
    "- try running in development container\n",
    "- creating new docker image for scheduler/worker\n",
    "- try [condaInstall plugin](https://distributed.dask.org/en/stable/plugins.html#built-in-scheduler-plugins) \n",
    "- add [data-specific dependencies](https://docs.dask.org/en/latest/deploying-cloud.html)\n",
    "- fix [data reading](https://docs.dask.org/en/latest/how-to/connect-to-remote-data.html#google-cloud-storage) config\n",
    "- test with setup using [ssh](https://docs.dask.org/en/latest/deploying-ssh.html)\n",
    "- customize and extend [docker images](https://docs.dask.org/en/latest/deploying-docker.html)"
   ]
  },
  {
   "cell_type": "code",
   "execution_count": null,
   "id": "15c400fd",
   "metadata": {},
   "outputs": [],
   "source": [
    "#"
   ]
  }
 ],
 "metadata": {
  "kernelspec": {
   "display_name": "notebooks",
   "language": "python",
   "name": "python3"
  },
  "language_info": {
   "codemirror_mode": {
    "name": "ipython",
    "version": 3
   },
   "file_extension": ".py",
   "mimetype": "text/x-python",
   "name": "python",
   "nbconvert_exporter": "python",
   "pygments_lexer": "ipython3",
   "version": "3.11.12"
  }
 },
 "nbformat": 4,
 "nbformat_minor": 5
}
