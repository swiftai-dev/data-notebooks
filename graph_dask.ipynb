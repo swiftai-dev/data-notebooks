{
 "cells": [
  {
   "cell_type": "markdown",
   "id": "6ea9dee9",
   "metadata": {},
   "source": [
    "# Local processing"
   ]
  },
  {
   "cell_type": "code",
   "execution_count": 1,
   "id": "6d8ab217",
   "metadata": {},
   "outputs": [
    {
     "name": "stdout",
     "output_type": "stream",
     "text": [
      "First few entries of the graph incidence list:\n",
      "source\n",
      "1              [762]\n",
      "2    [578, 282, 845]\n",
      "5         [233, 405]\n",
      "8               [81]\n",
      "9          [650, 17]\n",
      "Name: target, dtype: object\n"
     ]
    }
   ],
   "source": [
    "import dask.dataframe as dd\n",
    "\n",
    "# Read the edges TSV file into a Dask DataFrame\n",
    "edges_df = dd.read_csv('data/edges.tsv', sep='\\t', names=['source', 'target'])\n",
    "\n",
    "# Create graph incidence list by grouping by source column\n",
    "# This will give us for each source node all its target nodes\n",
    "graph_incidence = edges_df.groupby('source')['target'].apply(\n",
    "    lambda x: list(x),\n",
    "    meta=('target', 'object')  # specify meta for proper schema inference\n",
    ").compute()  # compute to bring result into memory\n",
    "\n",
    "print(\"First few entries of the graph incidence list:\")\n",
    "print(graph_incidence.head())"
   ]
  },
  {
   "cell_type": "markdown",
   "id": "a19a9a87",
   "metadata": {},
   "source": [
    "# Distributed processing"
   ]
  },
  {
   "cell_type": "markdown",
   "id": "a75f706f",
   "metadata": {},
   "source": [
    "## Setting up Dask on Google Cloud Platform\n",
    "\n",
    "To run Dask on GCP, we need:\n",
    "1. Google Cloud SDK installed and configured\n",
    "2. A GCP project with the required APIs enabled:\n",
    "   - Compute Engine API\n",
    "   - Cloud Resource Manager API\n",
    "3. Authentication set up (`gcloud auth application-default login`)\n",
    "4. Dependencies installed:\n",
    "   ```bash\n",
    "   pip install dask-cloudprovider google-cloud-storage\n",
    "   ```\n",
    "\n",
    "The following code will set up a Dask cluster on GCP."
   ]
  },
  {
   "cell_type": "code",
   "execution_count": 9,
   "id": "9504976c",
   "metadata": {},
   "outputs": [
    {
     "name": "stdout",
     "output_type": "stream",
     "text": [
      "Launching cluster with the following configuration: \n",
      "  Source Image: projects/ubuntu-os-cloud/global/images/ubuntu-minimal-1804-bionic-v20201014 \n",
      "  Docker Image: daskdev/dask:latest \n",
      "  Machine Type: n1-standard-1 \n",
      "  Filesystem Size: 50 \n",
      "  Disk Type: pd-standard \n",
      "  N-GPU Type:  \n",
      "  Zone: us-central1-a \n",
      "Creating scheduler instance\n",
      "\n",
      "Cloud init\n",
      "==========\n",
      "\n",
      "\n",
      "#cloud-config\n",
      "\n",
      "\n",
      "# Bootstrap\n",
      "packages:\n",
      "  - apt-transport-https\n",
      "  - ca-certificates\n",
      "  - curl\n",
      "  - gnupg-agent\n",
      "  - software-properties-common\n",
      "  - ubuntu-drivers-common\n",
      "\n",
      "# Enable ipv4 forwarding, required on CIS hardened machines\n",
      "write_files:\n",
      "  - path: /etc/sysctl.d/enabled_ipv4_forwarding.conf\n",
      "    content: |\n",
      "      net.ipv4.conf.all.forwarding=1\n",
      "\n",
      "# create the docker group\n",
      "groups:\n",
      "  - docker\n",
      "\n",
      "# Add default auto created user to docker group\n",
      "system_info:\n",
      "  default_user:\n",
      "    groups: [docker]\n",
      "\n",
      "\n",
      "runcmd:\n",
      "  \n",
      "  # Install Docker\n",
      "  - curl -fsSL https://download.docker.com/linux/ubuntu/gpg | apt-key add -\n",
      "  - add-apt-repository \"deb [arch=amd64] https://download.docker.com/linux/ubuntu $(lsb_release -cs) stable\"\n",
      "  - apt-get update -y\n",
      "  - apt-get install -y docker-ce docker-ce-cli containerd.io\n",
      "  - systemctl start docker\n",
      "  - systemctl enable docker\n",
      "  \n",
      "\n",
      "  \n",
      "\n",
      "  \n",
      "\n",
      "  # Run container\n",
      "  - 'docker run --net=host   daskdev/dask:latest env DASK_INTERNAL_INHERIT_CONFIG=\"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\" python -m distributed.cli.dask_scheduler'\n",
      "\n",
      "  \n",
      "  # Shutdown when command is done\n",
      "  - shutdown -h now\n",
      "  \n",
      "dask-f3e4cf7e-scheduler\n",
      "\tInternal IP: 10.128.0.16\n",
      "\tExternal IP: 35.226.133.114\n",
      "Waiting for scheduler to run at 35.226.133.114:8786\n",
      "Scheduler is running\n"
     ]
    },
    {
     "name": "stderr",
     "output_type": "stream",
     "text": [
      "/root/.local/share/uv/python/cpython-3.11.12-linux-x86_64-gnu/lib/python3.11/contextlib.py:144: UserWarning: Creating your cluster is taking a surprisingly long time. This is likely due to pending resources. Hang tight! \n",
      "  next(self.gen)\n"
     ]
    },
    {
     "name": "stdout",
     "output_type": "stream",
     "text": [
      "Dask dashboard available at: http://35.226.133.114:8787/status\n"
     ]
    },
    {
     "name": "stderr",
     "output_type": "stream",
     "text": [
      "/root/dev/swiftai/notebooks/.venv/lib/python3.11/site-packages/distributed/client.py:1590: VersionMismatchWarning: Mismatched versions found\n",
      "\n",
      "+---------+-----------------+-----------------+---------+\n",
      "| Package | Client          | Scheduler       | Workers |\n",
      "+---------+-----------------+-----------------+---------+\n",
      "| lz4     | None            | 4.3.3           | None    |\n",
      "| python  | 3.11.12.final.0 | 3.10.12.final.0 | None    |\n",
      "| toolz   | 1.0.0           | 0.12.0          | None    |\n",
      "| tornado | 6.5.2           | 6.5.1           | None    |\n",
      "+---------+-----------------+-----------------+---------+\n",
      "  warnings.warn(version_module.VersionMismatchWarning(msg[0][\"warning\"]))\n"
     ]
    }
   ],
   "source": [
    "from dask_cloudprovider.gcp import GCPCluster\n",
    "from dask.distributed import Client\n",
    "import os\n",
    "\n",
    "# Configure your GCP project and zone from environment variables\n",
    "project = os.environ.get('GCP_PROJECT_ID')\n",
    "zone = os.environ.get('GCP_ZONE', 'us-central1-a')      # Default to us-central1-a if not set\n",
    "\n",
    "if not project:\n",
    "    raise ValueError(\"GCP_PROJECT_ID environment variable not set. Please set it in your .env file.\")\n",
    "\n",
    "# Create a GCP cluster\n",
    "cluster = GCPCluster(\n",
    "    projectid=project,\n",
    "    zone=zone,\n",
    "    n_workers=0,            # Number of worker nodes\n",
    "    machine_type='n1-standard-1',  # Machine type for workers\n",
    "    # filesystem_size=50,           # Disk size in GB\n",
    "    preemptible=True,\n",
    "    worker_class='dask_cloudprovider.gcp.GCPWorker',\n",
    "    debug=True\n",
    ")\n",
    "\n",
    "# Create a Dask client\n",
    "client = Client(cluster)\n",
    "\n",
    "# Print cluster dashboard link\n",
    "print(f\"Dask dashboard available at: {client.dashboard_link}\")"
   ]
  },
  {
   "cell_type": "code",
   "execution_count": 10,
   "id": "88203082",
   "metadata": {},
   "outputs": [
    {
     "data": {
      "text/html": [
       "\n",
       "    <details>\n",
       "    <summary style='display:list-item'>Cluster</summary>\n",
       "    \n",
       "    \n",
       "        <p style=\"font-family: monospace; margin: 0;\">Launching cluster with the following configuration: </p>\n",
       "    \n",
       "\n",
       "    \n",
       "        <p style=\"font-family: monospace; margin: 0;\">  Source Image: projects/ubuntu-os-cloud/global/images/ubuntu-minimal-1804-bionic-v20201014 </p>\n",
       "    \n",
       "\n",
       "    \n",
       "        <p style=\"font-family: monospace; margin: 0;\">  Docker Image: daskdev/dask:latest </p>\n",
       "    \n",
       "\n",
       "    \n",
       "        <p style=\"font-family: monospace; margin: 0;\">  Machine Type: n1-standard-1 </p>\n",
       "    \n",
       "\n",
       "    \n",
       "        <p style=\"font-family: monospace; margin: 0;\">  Filesystem Size: 50 </p>\n",
       "    \n",
       "\n",
       "    \n",
       "        <p style=\"font-family: monospace; margin: 0;\">  Disk Type: pd-standard </p>\n",
       "    \n",
       "\n",
       "    \n",
       "        <p style=\"font-family: monospace; margin: 0;\">  N-GPU Type:  </p>\n",
       "    \n",
       "\n",
       "    \n",
       "        <p style=\"font-family: monospace; margin: 0;\">  Zone: us-central1-a </p>\n",
       "    \n",
       "\n",
       "    \n",
       "        <p style=\"font-family: monospace; margin: 0;\">Creating scheduler instance</p>\n",
       "    \n",
       "\n",
       "    \n",
       "        <p style=\"font-family: monospace; margin: 0;\">dask-f3e4cf7e-scheduler</p>\n",
       "    \n",
       "\n",
       "    \n",
       "        <p style=\"font-family: monospace; margin: 0;\">\tInternal IP: 10.128.0.16</p>\n",
       "    \n",
       "\n",
       "    \n",
       "        <p style=\"font-family: monospace; margin: 0;\">\tExternal IP: 35.226.133.114</p>\n",
       "    \n",
       "\n",
       "    \n",
       "        <p style=\"font-family: monospace; margin: 0;\">Waiting for scheduler to run at 35.226.133.114:8786</p>\n",
       "    \n",
       "\n",
       "    \n",
       "        <p style=\"font-family: monospace; margin: 0;\">Scheduler is running</p>\n",
       "    \n",
       "\n",
       "    </details>\n",
       "\n",
       "    <details>\n",
       "    <summary style='display:list-item'>Scheduler</summary>\n",
       "    \n",
       "    \n",
       "        <p style=\"font-family: monospace; margin: 0;\">2025-08-10 20:14:29,798 - distributed.scheduler - INFO - Receive client connection: Client-9e161f51-7626-11f0-8a68-9d5dddedf649</p>\n",
       "    \n",
       "\n",
       "    \n",
       "        <p style=\"font-family: monospace; margin: 0;\">2025-08-10 20:14:25,802 - distributed.scheduler - INFO - Registering Worker plugin shuffle</p>\n",
       "    \n",
       "\n",
       "    \n",
       "        <p style=\"font-family: monospace; margin: 0;\">2025-08-10 20:14:25,802 - distributed.scheduler - INFO -   dashboard at:  http://10.128.0.16:8787/status</p>\n",
       "    \n",
       "\n",
       "    \n",
       "        <p style=\"font-family: monospace; margin: 0;\">2025-08-10 20:14:25,802 - distributed.scheduler - INFO -   Scheduler at:    tls://10.128.0.16:8786</p>\n",
       "    \n",
       "\n",
       "    \n",
       "        <p style=\"font-family: monospace; margin: 0;\">2025-08-10 20:14:25,795 - distributed.scheduler - INFO - -----------------------------------------------</p>\n",
       "    \n",
       "\n",
       "    \n",
       "        <p style=\"font-family: monospace; margin: 0;\">2025-08-10 20:14:25,787 - distributed.scheduler - INFO - State start</p>\n",
       "    \n",
       "\n",
       "    </details>\n"
      ],
      "text/plain": [
       "{'Cluster': 'Launching cluster with the following configuration: \\n  Source Image: projects/ubuntu-os-cloud/global/images/ubuntu-minimal-1804-bionic-v20201014 \\n  Docker Image: daskdev/dask:latest \\n  Machine Type: n1-standard-1 \\n  Filesystem Size: 50 \\n  Disk Type: pd-standard \\n  N-GPU Type:  \\n  Zone: us-central1-a \\nCreating scheduler instance\\ndask-f3e4cf7e-scheduler\\n\\tInternal IP: 10.128.0.16\\n\\tExternal IP: 35.226.133.114\\nWaiting for scheduler to run at 35.226.133.114:8786\\nScheduler is running',\n",
       " 'Scheduler': '2025-08-10 20:14:29,798 - distributed.scheduler - INFO - Receive client connection: Client-9e161f51-7626-11f0-8a68-9d5dddedf649\\n2025-08-10 20:14:25,802 - distributed.scheduler - INFO - Registering Worker plugin shuffle\\n2025-08-10 20:14:25,802 - distributed.scheduler - INFO -   dashboard at:  http://10.128.0.16:8787/status\\n2025-08-10 20:14:25,802 - distributed.scheduler - INFO -   Scheduler at:    tls://10.128.0.16:8786\\n2025-08-10 20:14:25,795 - distributed.scheduler - INFO - -----------------------------------------------\\n2025-08-10 20:14:25,787 - distributed.scheduler - INFO - State start'}"
      ]
     },
     "execution_count": 10,
     "metadata": {},
     "output_type": "execute_result"
    }
   ],
   "source": [
    "cluster.get_logs()"
   ]
  },
  {
   "cell_type": "code",
   "execution_count": 11,
   "id": "caca3b96",
   "metadata": {},
   "outputs": [
    {
     "ename": "RuntimeError",
     "evalue": "Error during deserialization of the task graph. This frequently\noccurs if the Scheduler and Client have different environments.\nFor more information, see\nhttps://docs.dask.org/en/stable/deployment-considerations.html#consistent-software-environments\n",
     "output_type": "error",
     "traceback": [
      "\u001b[31m---------------------------------------------------------------------------\u001b[39m",
      "\u001b[31mTypeError\u001b[39m                                 Traceback (most recent call last)",
      "\u001b[36mFile \u001b[39m\u001b[32m/opt/conda/lib/python3.10/site-packages/distributed/scheduler.py:4874\u001b[39m, in \u001b[36mupdate_graph\u001b[39m\u001b[34m()\u001b[39m\n",
      "\u001b[36mFile \u001b[39m\u001b[32m/opt/conda/lib/python3.10/site-packages/distributed/protocol/serialize.py:452\u001b[39m, in \u001b[36mdeserialize\u001b[39m\u001b[34m()\u001b[39m\n",
      "\u001b[36mFile \u001b[39m\u001b[32m/opt/conda/lib/python3.10/site-packages/distributed/protocol/serialize.py:111\u001b[39m, in \u001b[36mpickle_loads\u001b[39m\u001b[34m()\u001b[39m\n",
      "\u001b[36mFile \u001b[39m\u001b[32m/opt/conda/lib/python3.10/site-packages/distributed/protocol/pickle.py:93\u001b[39m, in \u001b[36mloads\u001b[39m\u001b[34m()\u001b[39m\n",
      "\u001b[31mTypeError\u001b[39m: code expected at most 16 arguments, got 18",
      "\nThe above exception was the direct cause of the following exception:\n",
      "\u001b[31mRuntimeError\u001b[39m                              Traceback (most recent call last)",
      "\u001b[36mCell\u001b[39m\u001b[36m \u001b[39m\u001b[32mIn[11]\u001b[39m\u001b[32m, line 11\u001b[39m\n\u001b[32m      4\u001b[39m edges_df = dd.read_csv(\u001b[33m'\u001b[39m\u001b[33mdata/edges.tsv\u001b[39m\u001b[33m'\u001b[39m, sep=\u001b[33m'\u001b[39m\u001b[38;5;130;01m\\t\u001b[39;00m\u001b[33m'\u001b[39m, names=[\u001b[33m'\u001b[39m\u001b[33msource\u001b[39m\u001b[33m'\u001b[39m, \u001b[33m'\u001b[39m\u001b[33mtarget\u001b[39m\u001b[33m'\u001b[39m])\n\u001b[32m      6\u001b[39m \u001b[38;5;66;03m# Create graph incidence list by grouping by source column\u001b[39;00m\n\u001b[32m      7\u001b[39m \u001b[38;5;66;03m# This will give us for each source node all its target nodes\u001b[39;00m\n\u001b[32m      8\u001b[39m graph_incidence = \u001b[43medges_df\u001b[49m\u001b[43m.\u001b[49m\u001b[43mgroupby\u001b[49m\u001b[43m(\u001b[49m\u001b[33;43m'\u001b[39;49m\u001b[33;43msource\u001b[39;49m\u001b[33;43m'\u001b[39;49m\u001b[43m)\u001b[49m\u001b[43m[\u001b[49m\u001b[33;43m'\u001b[39;49m\u001b[33;43mtarget\u001b[39;49m\u001b[33;43m'\u001b[39;49m\u001b[43m]\u001b[49m\u001b[43m.\u001b[49m\u001b[43mapply\u001b[49m\u001b[43m(\u001b[49m\n\u001b[32m      9\u001b[39m \u001b[43m    \u001b[49m\u001b[38;5;28;43;01mlambda\u001b[39;49;00m\u001b[43m \u001b[49m\u001b[43mx\u001b[49m\u001b[43m:\u001b[49m\u001b[43m \u001b[49m\u001b[38;5;28;43mlist\u001b[39;49m\u001b[43m(\u001b[49m\u001b[43mx\u001b[49m\u001b[43m)\u001b[49m\u001b[43m,\u001b[49m\n\u001b[32m     10\u001b[39m \u001b[43m    \u001b[49m\u001b[43mmeta\u001b[49m\u001b[43m=\u001b[49m\u001b[43m(\u001b[49m\u001b[33;43m'\u001b[39;49m\u001b[33;43mtarget\u001b[39;49m\u001b[33;43m'\u001b[39;49m\u001b[43m,\u001b[49m\u001b[43m \u001b[49m\u001b[33;43m'\u001b[39;49m\u001b[33;43mobject\u001b[39;49m\u001b[33;43m'\u001b[39;49m\u001b[43m)\u001b[49m\u001b[43m  \u001b[49m\u001b[38;5;66;43;03m# specify meta for proper schema inference\u001b[39;49;00m\n\u001b[32m---> \u001b[39m\u001b[32m11\u001b[39m \u001b[43m)\u001b[49m\u001b[43m.\u001b[49m\u001b[43mcompute\u001b[49m\u001b[43m(\u001b[49m\u001b[43m)\u001b[49m  \u001b[38;5;66;03m# compute to bring result into memory\u001b[39;00m\n\u001b[32m     13\u001b[39m \u001b[38;5;28mprint\u001b[39m(\u001b[33m\"\u001b[39m\u001b[33mFirst few entries of the graph incidence list:\u001b[39m\u001b[33m\"\u001b[39m)\n\u001b[32m     14\u001b[39m \u001b[38;5;28mprint\u001b[39m(graph_incidence.head())\n",
      "\u001b[36mFile \u001b[39m\u001b[32m~/dev/swiftai/notebooks/.venv/lib/python3.11/site-packages/dask/base.py:373\u001b[39m, in \u001b[36mDaskMethodsMixin.compute\u001b[39m\u001b[34m(self, **kwargs)\u001b[39m\n\u001b[32m    349\u001b[39m \u001b[38;5;28;01mdef\u001b[39;00m\u001b[38;5;250m \u001b[39m\u001b[34mcompute\u001b[39m(\u001b[38;5;28mself\u001b[39m, **kwargs):\n\u001b[32m    350\u001b[39m \u001b[38;5;250m    \u001b[39m\u001b[33;03m\"\"\"Compute this dask collection\u001b[39;00m\n\u001b[32m    351\u001b[39m \n\u001b[32m    352\u001b[39m \u001b[33;03m    This turns a lazy Dask collection into its in-memory equivalent.\u001b[39;00m\n\u001b[32m   (...)\u001b[39m\u001b[32m    371\u001b[39m \u001b[33;03m    dask.compute\u001b[39;00m\n\u001b[32m    372\u001b[39m \u001b[33;03m    \"\"\"\u001b[39;00m\n\u001b[32m--> \u001b[39m\u001b[32m373\u001b[39m     (result,) = \u001b[43mcompute\u001b[49m\u001b[43m(\u001b[49m\u001b[38;5;28;43mself\u001b[39;49m\u001b[43m,\u001b[49m\u001b[43m \u001b[49m\u001b[43mtraverse\u001b[49m\u001b[43m=\u001b[49m\u001b[38;5;28;43;01mFalse\u001b[39;49;00m\u001b[43m,\u001b[49m\u001b[43m \u001b[49m\u001b[43m*\u001b[49m\u001b[43m*\u001b[49m\u001b[43mkwargs\u001b[49m\u001b[43m)\u001b[49m\n\u001b[32m    374\u001b[39m     \u001b[38;5;28;01mreturn\u001b[39;00m result\n",
      "\u001b[36mFile \u001b[39m\u001b[32m~/dev/swiftai/notebooks/.venv/lib/python3.11/site-packages/dask/base.py:681\u001b[39m, in \u001b[36mcompute\u001b[39m\u001b[34m(traverse, optimize_graph, scheduler, get, *args, **kwargs)\u001b[39m\n\u001b[32m    678\u001b[39m     expr = expr.optimize()\n\u001b[32m    679\u001b[39m     keys = \u001b[38;5;28mlist\u001b[39m(flatten(expr.__dask_keys__()))\n\u001b[32m--> \u001b[39m\u001b[32m681\u001b[39m     results = \u001b[43mschedule\u001b[49m\u001b[43m(\u001b[49m\u001b[43mexpr\u001b[49m\u001b[43m,\u001b[49m\u001b[43m \u001b[49m\u001b[43mkeys\u001b[49m\u001b[43m,\u001b[49m\u001b[43m \u001b[49m\u001b[43m*\u001b[49m\u001b[43m*\u001b[49m\u001b[43mkwargs\u001b[49m\u001b[43m)\u001b[49m\n\u001b[32m    683\u001b[39m \u001b[38;5;28;01mreturn\u001b[39;00m repack(results)\n",
      "\u001b[36mFile \u001b[39m\u001b[32m~/dev/swiftai/notebooks/.venv/lib/python3.11/site-packages/distributed/client.py:2417\u001b[39m, in \u001b[36mClient._gather\u001b[39m\u001b[34m(self, futures, errors, direct, local_worker)\u001b[39m\n\u001b[32m   2415\u001b[39m     exception = st.exception\n\u001b[32m   2416\u001b[39m     traceback = st.traceback\n\u001b[32m-> \u001b[39m\u001b[32m2417\u001b[39m     \u001b[38;5;28;01mraise\u001b[39;00m exception.with_traceback(traceback)\n\u001b[32m   2418\u001b[39m \u001b[38;5;28;01mif\u001b[39;00m errors == \u001b[33m\"\u001b[39m\u001b[33mskip\u001b[39m\u001b[33m\"\u001b[39m:\n\u001b[32m   2419\u001b[39m     bad_keys.add(key)\n",
      "\u001b[31mRuntimeError\u001b[39m: Error during deserialization of the task graph. This frequently\noccurs if the Scheduler and Client have different environments.\nFor more information, see\nhttps://docs.dask.org/en/stable/deployment-considerations.html#consistent-software-environments\n"
     ]
    }
   ],
   "source": [
    "import dask.dataframe as dd\n",
    "\n",
    "# Read the edges TSV file into a Dask DataFrame\n",
    "edges_df = dd.read_csv('data/edges.tsv', sep='\\t', names=['source', 'target'])\n",
    "\n",
    "# Create graph incidence list by grouping by source column\n",
    "# This will give us for each source node all its target nodes\n",
    "graph_incidence = edges_df.groupby('source')['target'].apply(\n",
    "    lambda x: list(x),\n",
    "    meta=('target', 'object')  # specify meta for proper schema inference\n",
    ").compute()  # compute to bring result into memory\n",
    "\n",
    "print(\"First few entries of the graph incidence list:\")\n",
    "print(graph_incidence.head())"
   ]
  },
  {
   "cell_type": "code",
   "execution_count": 12,
   "id": "7c54fc2a",
   "metadata": {},
   "outputs": [
    {
     "name": "stdout",
     "output_type": "stream",
     "text": [
      "Closing Instance: dask-f3e4cf7e-scheduler\n"
     ]
    }
   ],
   "source": [
    "cluster.close()"
   ]
  },
  {
   "cell_type": "code",
   "execution_count": null,
   "id": "e16d3a91",
   "metadata": {},
   "outputs": [],
   "source": []
  }
 ],
 "metadata": {
  "kernelspec": {
   "display_name": "notebooks",
   "language": "python",
   "name": "python3"
  },
  "language_info": {
   "codemirror_mode": {
    "name": "ipython",
    "version": 3
   },
   "file_extension": ".py",
   "mimetype": "text/x-python",
   "name": "python",
   "nbconvert_exporter": "python",
   "pygments_lexer": "ipython3",
   "version": "3.11.12"
  }
 },
 "nbformat": 4,
 "nbformat_minor": 5
}
